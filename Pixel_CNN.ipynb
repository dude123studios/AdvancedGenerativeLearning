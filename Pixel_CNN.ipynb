{
  "nbformat": 4,
  "nbformat_minor": 0,
  "metadata": {
    "colab": {
      "name": "Pixel CNN",
      "provenance": [],
      "collapsed_sections": [],
      "authorship_tag": "ABX9TyPmXUZvp1YEXqdVET9KNOxU",
      "include_colab_link": true
    },
    "kernelspec": {
      "name": "python3",
      "display_name": "Python 3"
    },
    "language_info": {
      "name": "python"
    },
    "accelerator": "GPU",
    "widgets": {
      "application/vnd.jupyter.widget-state+json": {
        "252cabe756f44006b4dfa506d40678aa": {
          "model_module": "@jupyter-widgets/controls",
          "model_name": "HBoxModel",
          "state": {
            "_view_name": "HBoxView",
            "_dom_classes": [],
            "_model_name": "HBoxModel",
            "_view_module": "@jupyter-widgets/controls",
            "_model_module_version": "1.5.0",
            "_view_count": null,
            "_view_module_version": "1.5.0",
            "box_style": "",
            "layout": "IPY_MODEL_815a40ff0e6b434382b751866f620fe0",
            "_model_module": "@jupyter-widgets/controls",
            "children": [
              "IPY_MODEL_0fa4f5ba046e40d7af9dfc35897f4fcf",
              "IPY_MODEL_f31e10d7ffc34af8b44fde5a3f4c12bb"
            ]
          }
        },
        "815a40ff0e6b434382b751866f620fe0": {
          "model_module": "@jupyter-widgets/base",
          "model_name": "LayoutModel",
          "state": {
            "_view_name": "LayoutView",
            "grid_template_rows": null,
            "right": null,
            "justify_content": null,
            "_view_module": "@jupyter-widgets/base",
            "overflow": null,
            "_model_module_version": "1.2.0",
            "_view_count": null,
            "flex_flow": null,
            "width": null,
            "min_width": null,
            "border": null,
            "align_items": null,
            "bottom": null,
            "_model_module": "@jupyter-widgets/base",
            "top": null,
            "grid_column": null,
            "overflow_y": null,
            "overflow_x": null,
            "grid_auto_flow": null,
            "grid_area": null,
            "grid_template_columns": null,
            "flex": null,
            "_model_name": "LayoutModel",
            "justify_items": null,
            "grid_row": null,
            "max_height": null,
            "align_content": null,
            "visibility": null,
            "align_self": null,
            "height": null,
            "min_height": null,
            "padding": null,
            "grid_auto_rows": null,
            "grid_gap": null,
            "max_width": null,
            "order": null,
            "_view_module_version": "1.2.0",
            "grid_template_areas": null,
            "object_position": null,
            "object_fit": null,
            "grid_auto_columns": null,
            "margin": null,
            "display": null,
            "left": null
          }
        },
        "0fa4f5ba046e40d7af9dfc35897f4fcf": {
          "model_module": "@jupyter-widgets/controls",
          "model_name": "FloatProgressModel",
          "state": {
            "_view_name": "ProgressView",
            "style": "IPY_MODEL_51a113008cea414b9d79d139133739b0",
            "_dom_classes": [],
            "description": "Dl Completed...: 100%",
            "_model_name": "FloatProgressModel",
            "bar_style": "success",
            "max": 4,
            "_view_module": "@jupyter-widgets/controls",
            "_model_module_version": "1.5.0",
            "value": 4,
            "_view_count": null,
            "_view_module_version": "1.5.0",
            "orientation": "horizontal",
            "min": 0,
            "description_tooltip": null,
            "_model_module": "@jupyter-widgets/controls",
            "layout": "IPY_MODEL_6b35ae83702d4545a249846d1c49d0ea"
          }
        },
        "f31e10d7ffc34af8b44fde5a3f4c12bb": {
          "model_module": "@jupyter-widgets/controls",
          "model_name": "HTMLModel",
          "state": {
            "_view_name": "HTMLView",
            "style": "IPY_MODEL_4b62c62057f74b78a9e3bd0c0ce6ee80",
            "_dom_classes": [],
            "description": "",
            "_model_name": "HTMLModel",
            "placeholder": "​",
            "_view_module": "@jupyter-widgets/controls",
            "_model_module_version": "1.5.0",
            "value": " 4/4 [00:06&lt;00:00,  1.56s/ file]",
            "_view_count": null,
            "_view_module_version": "1.5.0",
            "description_tooltip": null,
            "_model_module": "@jupyter-widgets/controls",
            "layout": "IPY_MODEL_2fd9815bf24744309deebc7d2be06d2c"
          }
        },
        "51a113008cea414b9d79d139133739b0": {
          "model_module": "@jupyter-widgets/controls",
          "model_name": "ProgressStyleModel",
          "state": {
            "_view_name": "StyleView",
            "_model_name": "ProgressStyleModel",
            "description_width": "initial",
            "_view_module": "@jupyter-widgets/base",
            "_model_module_version": "1.5.0",
            "_view_count": null,
            "_view_module_version": "1.2.0",
            "bar_color": null,
            "_model_module": "@jupyter-widgets/controls"
          }
        },
        "6b35ae83702d4545a249846d1c49d0ea": {
          "model_module": "@jupyter-widgets/base",
          "model_name": "LayoutModel",
          "state": {
            "_view_name": "LayoutView",
            "grid_template_rows": null,
            "right": null,
            "justify_content": null,
            "_view_module": "@jupyter-widgets/base",
            "overflow": null,
            "_model_module_version": "1.2.0",
            "_view_count": null,
            "flex_flow": null,
            "width": null,
            "min_width": null,
            "border": null,
            "align_items": null,
            "bottom": null,
            "_model_module": "@jupyter-widgets/base",
            "top": null,
            "grid_column": null,
            "overflow_y": null,
            "overflow_x": null,
            "grid_auto_flow": null,
            "grid_area": null,
            "grid_template_columns": null,
            "flex": null,
            "_model_name": "LayoutModel",
            "justify_items": null,
            "grid_row": null,
            "max_height": null,
            "align_content": null,
            "visibility": null,
            "align_self": null,
            "height": null,
            "min_height": null,
            "padding": null,
            "grid_auto_rows": null,
            "grid_gap": null,
            "max_width": null,
            "order": null,
            "_view_module_version": "1.2.0",
            "grid_template_areas": null,
            "object_position": null,
            "object_fit": null,
            "grid_auto_columns": null,
            "margin": null,
            "display": null,
            "left": null
          }
        },
        "4b62c62057f74b78a9e3bd0c0ce6ee80": {
          "model_module": "@jupyter-widgets/controls",
          "model_name": "DescriptionStyleModel",
          "state": {
            "_view_name": "StyleView",
            "_model_name": "DescriptionStyleModel",
            "description_width": "",
            "_view_module": "@jupyter-widgets/base",
            "_model_module_version": "1.5.0",
            "_view_count": null,
            "_view_module_version": "1.2.0",
            "_model_module": "@jupyter-widgets/controls"
          }
        },
        "2fd9815bf24744309deebc7d2be06d2c": {
          "model_module": "@jupyter-widgets/base",
          "model_name": "LayoutModel",
          "state": {
            "_view_name": "LayoutView",
            "grid_template_rows": null,
            "right": null,
            "justify_content": null,
            "_view_module": "@jupyter-widgets/base",
            "overflow": null,
            "_model_module_version": "1.2.0",
            "_view_count": null,
            "flex_flow": null,
            "width": null,
            "min_width": null,
            "border": null,
            "align_items": null,
            "bottom": null,
            "_model_module": "@jupyter-widgets/base",
            "top": null,
            "grid_column": null,
            "overflow_y": null,
            "overflow_x": null,
            "grid_auto_flow": null,
            "grid_area": null,
            "grid_template_columns": null,
            "flex": null,
            "_model_name": "LayoutModel",
            "justify_items": null,
            "grid_row": null,
            "max_height": null,
            "align_content": null,
            "visibility": null,
            "align_self": null,
            "height": null,
            "min_height": null,
            "padding": null,
            "grid_auto_rows": null,
            "grid_gap": null,
            "max_width": null,
            "order": null,
            "_view_module_version": "1.2.0",
            "grid_template_areas": null,
            "object_position": null,
            "object_fit": null,
            "grid_auto_columns": null,
            "margin": null,
            "display": null,
            "left": null
          }
        }
      }
    }
  },
  "cells": [
    {
      "cell_type": "markdown",
      "metadata": {
        "id": "view-in-github",
        "colab_type": "text"
      },
      "source": [
        "<a href=\"https://colab.research.google.com/github/dude123studios/AdvancedGenerativeLearning/blob/main/Pixel_CNN.ipynb\" target=\"_parent\"><img src=\"https://colab.research.google.com/assets/colab-badge.svg\" alt=\"Open In Colab\"/></a>"
      ]
    },
    {
      "cell_type": "code",
      "metadata": {
        "id": "N_ntJ6t46AGH"
      },
      "source": [
        "import tensorflow as tf\n",
        "from tensorflow.keras.layers import *\n",
        "import numpy as np\n",
        "import tensorflow_datasets as tfds\n",
        "import matplotlib.pyplot as plt"
      ],
      "execution_count": 1,
      "outputs": []
    },
    {
      "cell_type": "code",
      "metadata": {
        "colab": {
          "base_uri": "https://localhost:8080/",
          "height": 202,
          "referenced_widgets": [
            "252cabe756f44006b4dfa506d40678aa",
            "815a40ff0e6b434382b751866f620fe0",
            "0fa4f5ba046e40d7af9dfc35897f4fcf",
            "f31e10d7ffc34af8b44fde5a3f4c12bb",
            "51a113008cea414b9d79d139133739b0",
            "6b35ae83702d4545a249846d1c49d0ea",
            "4b62c62057f74b78a9e3bd0c0ce6ee80",
            "2fd9815bf24744309deebc7d2be06d2c"
          ]
        },
        "id": "uB8FPESuMnNo",
        "outputId": "3ef22f72-0818-4c33-dafd-1bbcbb9a693b"
      },
      "source": [
        "(ds_train, ds_test), ds_info = tfds.load('mnist', \n",
        "                              split=['test', 'test'], \n",
        "                              shuffle_files=True,\n",
        "                              as_supervised=True,\n",
        "                              with_info=True)\n",
        "\n",
        "def binarize(image, label):\n",
        "    image = tf.cast(image, tf.float32)\n",
        "    image = tf.math.round(image / 255.)\n",
        "    return image, tf.cast(image, tf.int32)\n",
        "\n",
        "ds_train = ds_train.map(binarize)\n",
        "ds_train = ds_train.cache()\n",
        "ds_train = ds_train.shuffle(ds_info.splits['train'].num_examples)\n",
        "ds_train = ds_train.batch(64)\n",
        "ds_test = ds_test.map(binarize).batch(64).cache().prefetch(64)"
      ],
      "execution_count": 2,
      "outputs": [
        {
          "output_type": "stream",
          "text": [
            "\u001b[1mDownloading and preparing dataset mnist/3.0.1 (download: 11.06 MiB, generated: 21.00 MiB, total: 32.06 MiB) to /root/tensorflow_datasets/mnist/3.0.1...\u001b[0m\n"
          ],
          "name": "stdout"
        },
        {
          "output_type": "stream",
          "text": [
            "WARNING:absl:Dataset mnist is hosted on GCS. It will automatically be downloaded to your\n",
            "local data directory. If you'd instead prefer to read directly from our public\n",
            "GCS bucket (recommended if you're running on GCP), you can instead pass\n",
            "`try_gcs=True` to `tfds.load` or set `data_dir=gs://tfds-data/datasets`.\n",
            "\n"
          ],
          "name": "stderr"
        },
        {
          "output_type": "display_data",
          "data": {
            "application/vnd.jupyter.widget-view+json": {
              "model_id": "252cabe756f44006b4dfa506d40678aa",
              "version_minor": 0,
              "version_major": 2
            },
            "text/plain": [
              "HBox(children=(FloatProgress(value=0.0, description='Dl Completed...', max=4.0, style=ProgressStyle(descriptio…"
            ]
          },
          "metadata": {
            "tags": []
          }
        },
        {
          "output_type": "stream",
          "text": [
            "\n",
            "\n",
            "\u001b[1mDataset mnist downloaded and prepared to /root/tensorflow_datasets/mnist/3.0.1. Subsequent calls will reuse this data.\u001b[0m\n"
          ],
          "name": "stdout"
        }
      ]
    },
    {
      "cell_type": "code",
      "metadata": {
        "id": "zGU-0DisQI0Q"
      },
      "source": [
        "class MaskedConv2D(tf.keras.layers.Layer):\n",
        "\n",
        "    def __init__(self, mask_type, kernel = 5, filters = 1):\n",
        "        super(MaskedConv2D, self).__init__()\n",
        "        self.kernel = kernel\n",
        "        self.filters = filters\n",
        "        self.mask_type = mask_type\n",
        "    \n",
        "    def build(self, input_shape):\n",
        "        self.w = self.add_weight(shape=(self.kernel,\n",
        "                                        self.kernel,\n",
        "                                        input_shape[-1],\n",
        "                                        self.filters),\n",
        "                                  initializer='glorot_normal',\n",
        "                                  trainable=True)\n",
        "        self.b = self.add_weight(shape=(self.filters,), trainable=True, initializer='zeros')\n",
        "\n",
        "        mask = np.ones(self.kernel**2, dtype=np.float32)\n",
        "        center = len(mask) // 2\n",
        "        mask[center+1:] = 0\n",
        "        if self.mask_type == 'A':\n",
        "            mask[center] = 0\n",
        "        mask = mask.reshape((self.kernel, self.kernel, 1, 1))\n",
        "        self.mask  = tf.constant(mask, dtype=tf.float32)\n",
        "    \n",
        "    def call(self, inputs):\n",
        "        masked_w = tf.math.multiply(self.w, self.mask)\n",
        "        output = tf.nn.conv2d(inputs, masked_w, 1, padding='SAME') + self.b\n",
        "        return tf.nn.relu(output)"
      ],
      "execution_count": 3,
      "outputs": []
    },
    {
      "cell_type": "code",
      "metadata": {
        "id": "5udfj31wizSK"
      },
      "source": [
        "class ResidualBlock(tf.keras.layers.Layer):\n",
        "    def __init__(self, h=32):\n",
        "        super(ResidualBlock, self).__init__()\n",
        "\n",
        "        self.forward = tf.keras.models.Sequential([\n",
        "            MaskedConv2D('B', kernel=1, filters=h),\n",
        "            MaskedConv2D('B', kernel=3, filters=h),\n",
        "            MaskedConv2D('B', kernel=1, filters=2*h)\n",
        "        ])\n",
        "    \n",
        "    def call(self, inputs):\n",
        "        return self.forward(inputs) + inputs"
      ],
      "execution_count": 4,
      "outputs": []
    },
    {
      "cell_type": "code",
      "metadata": {
        "id": "R-heFsPvkq15"
      },
      "source": [
        "def SimplePixelCNN(hidden_features=64,\n",
        "                   output_features=64,\n",
        "                   num_resblocks=7):\n",
        "    inputs = Input(shape=(28, 28, 1), dtype=tf.float32)\n",
        "    x = inputs\n",
        "\n",
        "    x = MaskedConv2D('A', kernel=7, filters=2*hidden_features)(x)\n",
        "\n",
        "    for _ in range(num_resblocks):\n",
        "        x = ResidualBlock(hidden_features)(x)\n",
        "    \n",
        "    x = Conv2D(output_features, (1, 1), padding='same', activation='relu')(x)\n",
        "    x = Conv2D(1, (1, 1), padding='same', activation='sigmoid')(x)\n",
        "\n",
        "    return tf.keras.Model(inputs=inputs, outputs=x, name='PixelCNN')"
      ],
      "execution_count": 5,
      "outputs": []
    },
    {
      "cell_type": "code",
      "metadata": {
        "colab": {
          "base_uri": "https://localhost:8080/"
        },
        "id": "gQQzntV0os7w",
        "outputId": "dc13df7e-2cd6-46d7-fd7f-d45361b7bc66"
      },
      "source": [
        "pixelCNN = SimplePixelCNN()\n",
        "pixelCNN.summary()"
      ],
      "execution_count": 6,
      "outputs": [
        {
          "output_type": "stream",
          "text": [
            "Model: \"PixelCNN\"\n",
            "_________________________________________________________________\n",
            "Layer (type)                 Output Shape              Param #   \n",
            "=================================================================\n",
            "input_1 (InputLayer)         [(None, 28, 28, 1)]       0         \n",
            "_________________________________________________________________\n",
            "masked_conv2d (MaskedConv2D) (None, 28, 28, 128)       6400      \n",
            "_________________________________________________________________\n",
            "residual_block (ResidualBloc (None, 28, 28, 128)       53504     \n",
            "_________________________________________________________________\n",
            "residual_block_1 (ResidualBl (None, 28, 28, 128)       53504     \n",
            "_________________________________________________________________\n",
            "residual_block_2 (ResidualBl (None, 28, 28, 128)       53504     \n",
            "_________________________________________________________________\n",
            "residual_block_3 (ResidualBl (None, 28, 28, 128)       53504     \n",
            "_________________________________________________________________\n",
            "residual_block_4 (ResidualBl (None, 28, 28, 128)       53504     \n",
            "_________________________________________________________________\n",
            "residual_block_5 (ResidualBl (None, 28, 28, 128)       53504     \n",
            "_________________________________________________________________\n",
            "residual_block_6 (ResidualBl (None, 28, 28, 128)       53504     \n",
            "_________________________________________________________________\n",
            "conv2d (Conv2D)              (None, 28, 28, 64)        8256      \n",
            "_________________________________________________________________\n",
            "conv2d_1 (Conv2D)            (None, 28, 28, 1)         65        \n",
            "=================================================================\n",
            "Total params: 389,249\n",
            "Trainable params: 389,249\n",
            "Non-trainable params: 0\n",
            "_________________________________________________________________\n"
          ],
          "name": "stdout"
        }
      ]
    },
    {
      "cell_type": "code",
      "metadata": {
        "colab": {
          "base_uri": "https://localhost:8080/"
        },
        "id": "d7zNzlFQo6nA",
        "outputId": "0220b39f-ec30-485a-b0d4-b5255600f27e"
      },
      "source": [
        "pixelCNN.compile(\n",
        "    optimizer='rmsprop',\n",
        "    loss = tf.keras.losses.BinaryCrossentropy(),\n",
        "    metrics = [tf.keras.losses.BinaryCrossentropy()]\n",
        ")\n",
        "\n",
        "pixelCNN.fit(ds_train, epochs=50, validation_data=ds_test)"
      ],
      "execution_count": 7,
      "outputs": [
        {
          "output_type": "stream",
          "text": [
            "Epoch 1/50\n",
            "157/157 [==============================] - 49s 93ms/step - loss: 0.1405 - binary_crossentropy: 0.1405 - val_loss: 0.1074 - val_binary_crossentropy: 0.1074\n",
            "Epoch 2/50\n",
            "157/157 [==============================] - 14s 89ms/step - loss: 0.1024 - binary_crossentropy: 0.1025 - val_loss: 0.1165 - val_binary_crossentropy: 0.1165\n",
            "Epoch 3/50\n",
            "157/157 [==============================] - 14s 90ms/step - loss: 0.0978 - binary_crossentropy: 0.0978 - val_loss: 0.0954 - val_binary_crossentropy: 0.0954\n",
            "Epoch 4/50\n",
            "157/157 [==============================] - 14s 90ms/step - loss: 0.0946 - binary_crossentropy: 0.0946 - val_loss: 0.0951 - val_binary_crossentropy: 0.0951\n",
            "Epoch 5/50\n",
            "157/157 [==============================] - 14s 90ms/step - loss: 0.0924 - binary_crossentropy: 0.0924 - val_loss: 0.0922 - val_binary_crossentropy: 0.0922\n",
            "Epoch 6/50\n",
            "157/157 [==============================] - 14s 90ms/step - loss: 0.0910 - binary_crossentropy: 0.0910 - val_loss: 0.0903 - val_binary_crossentropy: 0.0903\n",
            "Epoch 7/50\n",
            "157/157 [==============================] - 14s 90ms/step - loss: 0.0900 - binary_crossentropy: 0.0900 - val_loss: 0.0911 - val_binary_crossentropy: 0.0911\n",
            "Epoch 8/50\n",
            "157/157 [==============================] - 14s 91ms/step - loss: 0.0889 - binary_crossentropy: 0.0889 - val_loss: 0.0886 - val_binary_crossentropy: 0.0886\n",
            "Epoch 9/50\n",
            "157/157 [==============================] - 14s 90ms/step - loss: 0.0882 - binary_crossentropy: 0.0882 - val_loss: 0.0870 - val_binary_crossentropy: 0.0870\n",
            "Epoch 10/50\n",
            "157/157 [==============================] - 14s 90ms/step - loss: 0.0876 - binary_crossentropy: 0.0876 - val_loss: 0.0921 - val_binary_crossentropy: 0.0921\n",
            "Epoch 11/50\n",
            "157/157 [==============================] - 14s 91ms/step - loss: 0.0870 - binary_crossentropy: 0.0870 - val_loss: 0.0885 - val_binary_crossentropy: 0.0885\n",
            "Epoch 12/50\n",
            "157/157 [==============================] - 14s 91ms/step - loss: 0.0865 - binary_crossentropy: 0.0865 - val_loss: 0.0867 - val_binary_crossentropy: 0.0867\n",
            "Epoch 13/50\n",
            "157/157 [==============================] - 14s 91ms/step - loss: 0.0860 - binary_crossentropy: 0.0861 - val_loss: 0.0878 - val_binary_crossentropy: 0.0878\n",
            "Epoch 14/50\n",
            "157/157 [==============================] - 14s 91ms/step - loss: 0.0856 - binary_crossentropy: 0.0856 - val_loss: 0.0872 - val_binary_crossentropy: 0.0872\n",
            "Epoch 15/50\n",
            "157/157 [==============================] - 14s 91ms/step - loss: 0.0853 - binary_crossentropy: 0.0853 - val_loss: 0.0869 - val_binary_crossentropy: 0.0869\n",
            "Epoch 16/50\n",
            "157/157 [==============================] - 14s 91ms/step - loss: 0.0849 - binary_crossentropy: 0.0848 - val_loss: 0.0854 - val_binary_crossentropy: 0.0854\n",
            "Epoch 17/50\n",
            "157/157 [==============================] - 14s 91ms/step - loss: 0.0845 - binary_crossentropy: 0.0845 - val_loss: 0.0852 - val_binary_crossentropy: 0.0852\n",
            "Epoch 18/50\n",
            "157/157 [==============================] - 14s 91ms/step - loss: 0.0842 - binary_crossentropy: 0.0842 - val_loss: 0.0838 - val_binary_crossentropy: 0.0838\n",
            "Epoch 19/50\n",
            "157/157 [==============================] - 14s 91ms/step - loss: 0.0839 - binary_crossentropy: 0.0839 - val_loss: 0.0845 - val_binary_crossentropy: 0.0845\n",
            "Epoch 20/50\n",
            "157/157 [==============================] - 14s 91ms/step - loss: 0.0836 - binary_crossentropy: 0.0836 - val_loss: 0.0840 - val_binary_crossentropy: 0.0840\n",
            "Epoch 21/50\n",
            "157/157 [==============================] - 14s 91ms/step - loss: 0.0833 - binary_crossentropy: 0.0833 - val_loss: 0.0841 - val_binary_crossentropy: 0.0841\n",
            "Epoch 22/50\n",
            "157/157 [==============================] - 14s 91ms/step - loss: 0.0830 - binary_crossentropy: 0.0830 - val_loss: 0.0832 - val_binary_crossentropy: 0.0832\n",
            "Epoch 23/50\n",
            "157/157 [==============================] - 14s 91ms/step - loss: 0.0827 - binary_crossentropy: 0.0827 - val_loss: 0.0853 - val_binary_crossentropy: 0.0853\n",
            "Epoch 24/50\n",
            "157/157 [==============================] - 14s 91ms/step - loss: 0.0824 - binary_crossentropy: 0.0825 - val_loss: 0.0834 - val_binary_crossentropy: 0.0834\n",
            "Epoch 25/50\n",
            "157/157 [==============================] - 14s 91ms/step - loss: 0.0822 - binary_crossentropy: 0.0822 - val_loss: 0.0830 - val_binary_crossentropy: 0.0830\n",
            "Epoch 26/50\n",
            "157/157 [==============================] - 14s 91ms/step - loss: 0.0819 - binary_crossentropy: 0.0819 - val_loss: 0.0830 - val_binary_crossentropy: 0.0830\n",
            "Epoch 27/50\n",
            "157/157 [==============================] - 14s 91ms/step - loss: 0.0816 - binary_crossentropy: 0.0816 - val_loss: 0.0822 - val_binary_crossentropy: 0.0822\n",
            "Epoch 28/50\n",
            "157/157 [==============================] - 14s 91ms/step - loss: 0.0814 - binary_crossentropy: 0.0814 - val_loss: 0.0812 - val_binary_crossentropy: 0.0812\n",
            "Epoch 29/50\n",
            "157/157 [==============================] - 14s 91ms/step - loss: 0.0811 - binary_crossentropy: 0.0811 - val_loss: 0.0813 - val_binary_crossentropy: 0.0813\n",
            "Epoch 30/50\n",
            "157/157 [==============================] - 14s 91ms/step - loss: 0.0808 - binary_crossentropy: 0.0808 - val_loss: 0.0806 - val_binary_crossentropy: 0.0806\n",
            "Epoch 31/50\n",
            "157/157 [==============================] - 14s 91ms/step - loss: 0.0806 - binary_crossentropy: 0.0806 - val_loss: 0.0825 - val_binary_crossentropy: 0.0825\n",
            "Epoch 32/50\n",
            "157/157 [==============================] - 14s 92ms/step - loss: 0.0803 - binary_crossentropy: 0.0803 - val_loss: 0.0804 - val_binary_crossentropy: 0.0804\n",
            "Epoch 33/50\n",
            "157/157 [==============================] - 14s 91ms/step - loss: 0.0800 - binary_crossentropy: 0.0800 - val_loss: 0.0807 - val_binary_crossentropy: 0.0807\n",
            "Epoch 34/50\n",
            "157/157 [==============================] - 14s 91ms/step - loss: 0.0797 - binary_crossentropy: 0.0798 - val_loss: 0.0801 - val_binary_crossentropy: 0.0801\n",
            "Epoch 35/50\n",
            "157/157 [==============================] - 14s 91ms/step - loss: 0.0795 - binary_crossentropy: 0.0795 - val_loss: 0.0801 - val_binary_crossentropy: 0.0801\n",
            "Epoch 36/50\n",
            "157/157 [==============================] - 14s 91ms/step - loss: 0.0792 - binary_crossentropy: 0.0793 - val_loss: 0.0801 - val_binary_crossentropy: 0.0801\n",
            "Epoch 37/50\n",
            "157/157 [==============================] - 14s 91ms/step - loss: 0.0791 - binary_crossentropy: 0.0791 - val_loss: 0.0789 - val_binary_crossentropy: 0.0789\n",
            "Epoch 38/50\n",
            "157/157 [==============================] - 14s 91ms/step - loss: 0.0788 - binary_crossentropy: 0.0787 - val_loss: 0.0795 - val_binary_crossentropy: 0.0794\n",
            "Epoch 39/50\n",
            "157/157 [==============================] - 14s 91ms/step - loss: 0.0785 - binary_crossentropy: 0.0785 - val_loss: 0.0785 - val_binary_crossentropy: 0.0785\n",
            "Epoch 40/50\n",
            "157/157 [==============================] - 14s 92ms/step - loss: 0.0783 - binary_crossentropy: 0.0783 - val_loss: 0.0784 - val_binary_crossentropy: 0.0784\n",
            "Epoch 41/50\n",
            "157/157 [==============================] - 14s 91ms/step - loss: 0.0780 - binary_crossentropy: 0.0780 - val_loss: 0.0787 - val_binary_crossentropy: 0.0787\n",
            "Epoch 42/50\n",
            "157/157 [==============================] - 14s 91ms/step - loss: 0.0778 - binary_crossentropy: 0.0778 - val_loss: 0.0777 - val_binary_crossentropy: 0.0777\n",
            "Epoch 43/50\n",
            "157/157 [==============================] - 14s 91ms/step - loss: 0.0776 - binary_crossentropy: 0.0776 - val_loss: 0.0784 - val_binary_crossentropy: 0.0784\n",
            "Epoch 44/50\n",
            "157/157 [==============================] - 14s 91ms/step - loss: 0.0773 - binary_crossentropy: 0.0773 - val_loss: 0.0779 - val_binary_crossentropy: 0.0779\n",
            "Epoch 45/50\n",
            "157/157 [==============================] - 14s 91ms/step - loss: 0.0771 - binary_crossentropy: 0.0771 - val_loss: 0.0776 - val_binary_crossentropy: 0.0776\n",
            "Epoch 46/50\n",
            "157/157 [==============================] - 14s 91ms/step - loss: 0.0769 - binary_crossentropy: 0.0769 - val_loss: 0.0774 - val_binary_crossentropy: 0.0774\n",
            "Epoch 47/50\n",
            "157/157 [==============================] - 14s 91ms/step - loss: 0.0767 - binary_crossentropy: 0.0767 - val_loss: 0.0779 - val_binary_crossentropy: 0.0779\n",
            "Epoch 48/50\n",
            "157/157 [==============================] - 14s 91ms/step - loss: 0.0764 - binary_crossentropy: 0.0764 - val_loss: 0.0771 - val_binary_crossentropy: 0.0771\n",
            "Epoch 49/50\n",
            "157/157 [==============================] - 14s 91ms/step - loss: 0.0761 - binary_crossentropy: 0.0761 - val_loss: 0.0768 - val_binary_crossentropy: 0.0768\n",
            "Epoch 50/50\n",
            "157/157 [==============================] - 14s 91ms/step - loss: 0.0760 - binary_crossentropy: 0.0760 - val_loss: 0.0759 - val_binary_crossentropy: 0.0759\n"
          ],
          "name": "stdout"
        },
        {
          "output_type": "execute_result",
          "data": {
            "text/plain": [
              "<tensorflow.python.keras.callbacks.History at 0x7f6db4319190>"
            ]
          },
          "metadata": {
            "tags": []
          },
          "execution_count": 7
        }
      ]
    },
    {
      "cell_type": "code",
      "metadata": {
        "id": "zylENj4A7DDa"
      },
      "source": [
        "grid_row = 5\n",
        "grid_col = 5\n",
        "\n",
        "batch = grid_row * grid_col\n",
        "h = w = 28\n",
        "images = np.ones((batch, w, h, 1), dtype=np.float32)\n",
        "\n",
        "for row in range(h):\n",
        "\n",
        "    for col in range(w):\n",
        "\n",
        "        prob = pixelCNN.predict(images)[:,row,col,0]\n",
        "\n",
        "        pixel_samples = tf.random.categorical(tf.math.log(np.stack([1-prob, prob],1)), 1)\n",
        "\n",
        "        images[:,row,col,0] = tf.reshape(pixel_samples,[batch])"
      ],
      "execution_count": null,
      "outputs": []
    },
    {
      "cell_type": "code",
      "metadata": {
        "colab": {
          "base_uri": "https://localhost:8080/",
          "height": 423
        },
        "id": "bc-OMP1g-YDq",
        "outputId": "92bfaa4a-83dc-4837-f42e-9ab3ee7345d6"
      },
      "source": [
        "f, axarr = plt.subplots(grid_row, grid_col, figsize=(grid_col*1.1,grid_row))\n",
        "\n",
        "i = 0\n",
        "for row in range(grid_row):\n",
        "    for col in range(grid_col):\n",
        "        axarr[row,col].imshow(images[i,:,:,0], cmap='gray')\n",
        "        axarr[row,col].axis('off')\n",
        "        i += 1\n",
        "f.tight_layout(0.1, h_pad=0.2, w_pad=0.1)        \n",
        "plt.show()"
      ],
      "execution_count": 16,
      "outputs": [
        {
          "output_type": "stream",
          "text": [
            "/usr/local/lib/python3.7/dist-packages/ipykernel_launcher.py:9: MatplotlibDeprecationWarning: The 'renderer' parameter of tight_layout() is deprecated since Matplotlib 3.2 and will be removed two minor releases later.  If any parameter follows 'renderer', they should be pass as keyword, not positionally.\n",
            "  if __name__ == '__main__':\n"
          ],
          "name": "stderr"
        },
        {
          "output_type": "display_data",
          "data": {
            "image/png": "[encoded data removed]",
            "text/plain": [
              "<Figure size 396x360 with 25 Axes>"
            ]
          },
          "metadata": {
            "tags": [],
            "needs_background": "light"
          }
        }
      ]
    }
  ]
}